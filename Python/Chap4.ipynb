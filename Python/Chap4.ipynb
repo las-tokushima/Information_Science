{
 "cells": [
  {
   "cell_type": "markdown",
   "metadata": {
    "collapsed": false
   },
   "source": [
    "# 4-1-2　代表的な確率分布と性質\n"
   ]
  },
  {
   "cell_type": "code",
   "execution_count": null,
   "metadata": {
    "collapsed": false
   },
   "outputs": [
    {
     "data": {
      "text/plain": [
       "array([0.00097656, 0.00976563, 0.04394531, 0.1171875 , 0.20507813])"
      ]
     },
     "execution_count": 13,
     "metadata": {},
     "output_type": "execute_result"
    }
   ],
   "source": [
    "# p.93\n",
    "from scipy.stats import binom\n",
    "k = np.arange(0, 5) # array([0, 1, 2, 3, 4])\n",
    "# 10回コインを振って表が0回から5回までが出る確率\n",
    "binom.pmf (k, n=10, p=0.5)"
   ]
  },
  {
   "cell_type": "markdown",
   "metadata": {
    "collapsed": false
   },
   "source": [
    "## ■ Python を使った確率分布の描画と確率関数\n",
    "\n"
   ]
  },
  {
   "cell_type": "code",
   "execution_count": 1,
   "metadata": {
    "collapsed": false
   },
   "outputs": [
    {
     "data": {
      "text/plain": [
       "[<matplotlib.lines.Line2D at 0x7fd638ca7880>]"
      ]
     },
     "execution_count": 1,
     "metadata": {},
     "output_type": "execute_result"
    },
    {
     "data": {
      "image/png": "[encoded data removed]",
      "text/plain": [
       "<Figure size 432x288 with 1 Axes>"
      ]
     },
     "metadata": {},
     "output_type": "display_data"
    }
   ],
   "source": [
    "# p.119\n",
    "%matplotlib inline\n",
    "import matplotlib.pyplot as plt\n",
    "plt.style.use('ggplot')\n",
    "import numpy as np\n",
    "from scipy.stats import norm\n",
    "X = np.arange(20, 80, 0.1)\n",
    "Y = norm.pdf(X, 50, 10)\n",
    "fig = plt.figure()\n",
    "ax = fig.subplots()\n",
    "ax.plot(X, Y, color='r')\n",
    "#plt.show()"
   ]
  },
  {
   "cell_type": "code",
   "execution_count": 6,
   "metadata": {
    "collapsed": false
   },
   "outputs": [
    {
     "name": "stdout",
     "output_type": "stream",
     "text": [
      "0.058440944333451476\n",
      "0.024997895148220435\n",
      "-1.9599639845400545\n"
     ]
    }
   ],
   "source": [
    "# p.120\n",
    "from scipy.stats import norm\n",
    "# 確率密度を返す\n",
    "print(norm.pdf(-1.96, 0, 1))\n",
    "# 分位点を返す\n",
    "print(norm.ppf(0.025, 0, 1))\n",
    "# 累積確率を返す\n",
    "print(norm.cdf(-1.96, 0, 1)) \n"
   ]
  },
  {
   "cell_type": "markdown",
   "metadata": {
    "collapsed": false
   },
   "source": [
    "# 4-1-3　推測統計学の基礎\n",
    "## Python を使ったランダム・サンプリング"
   ]
  },
  {
   "cell_type": "code",
   "execution_count": null,
   "metadata": {
    "collapsed": false
   },
   "outputs": [],
   "source": [
    "# p.123\n",
    "from scipy.stats import norm\n",
    "import matplotlib.pyplot as plt\n",
    "plt.style.use('ggplot')\n",
    "SampMean = []\n",
    "for i in range(10000):\n",
    "    sample = norm.rvs(loc=6300, scale=1700, size=16)\n",
    "    SampMean.append(sample.mean())\n",
    "\n",
    "plt.hist(SampMean)\n",
    "# plt.show()"
   ]
  },
  {
   "cell_type": "markdown",
   "metadata": {
    "collapsed": false
   },
   "source": [
    "# 4-1-4　統計的検定の基礎\n",
    "\n",
    "## Python によるカイ自乗検定"
   ]
  },
  {
   "cell_type": "code",
   "execution_count": null,
   "metadata": {
    "collapsed": false
   },
   "outputs": [],
   "source": [
    "# p.132\n",
    "import pandas as pd\n",
    "from scipy import stats\n",
    "df = pd.DataFrame([[10, 26],\n",
    "                   [10, 14]],\n",
    "                  index =['P', 'N'], columns=['A', 'B'])\n",
    "x2, p, _, _ = stats.chi2_contingency(df, correction=False)\n",
    "print(f'p-value = {p :.3f}')\n",
    "print(f'chi^2   = {x2:.2f}')"
   ]
  },
  {
   "cell_type": "markdown",
   "metadata": {
    "collapsed": false
   },
   "source": [
    "## Python による「対応」のある t検定"
   ]
  },
  {
   "cell_type": "code",
   "execution_count": null,
   "metadata": {
    "collapsed": false
   },
   "outputs": [],
   "source": [
    "# p.136\n",
    "from scipy import stats\n",
    "before = [0.1, 0.3, 0.3, 0.1, 0.2, 0.3, 0.6, 0.4, 0.2, 0.3]\n",
    "after = [1.1, 0.7, 0.6, 0.8, 1.3, 0.5, 0.8, 0.7, 0.9, 0.5]\n",
    "t, p = stats.ttest_rel(before, after)\n",
    "print(f't-value = {t :.4f}')\n",
    "print(f'p-value = {p :.6f}')"
   ]
  },
  {
   "cell_type": "markdown",
   "metadata": {
    "collapsed": false
   },
   "source": [
    "## Python による等分散性の検定"
   ]
  },
  {
   "cell_type": "code",
   "execution_count": null,
   "metadata": {
    "collapsed": false
   },
   "outputs": [],
   "source": [
    "# p.140\n",
    "import numpy as np\n",
    "import numpy as np\n",
    "from scipy import stats\n",
    "classA = np.array([54, 55, 52, 48, 50, 38, 41, 40, 53, 52])\n",
    "classB = np.array([67, 63, 50, 60, 61, 69, 43, 58, 36, 29])\n",
    "# 分散の比を求める\n",
    "f = np.var(classB, ddof=1)/np.var(classA, ddof=1) \n",
    "# 分母分子の自由度\n",
    "dfn = classA.size - 1\n",
    "dfd = classB.size - 1\n",
    "# F分布の累積分布\n",
    "p = 1 - stats.f.cdf(f, dfn, dfd) \n",
    "print(f'f-value = {f :.4f}')\n",
    "print(f'p-value = {p :.4f}')"
   ]
  },
  {
   "cell_type": "markdown",
   "metadata": {
    "collapsed": false
   },
   "source": [
    "## Python による「対応」のない t 検定"
   ]
  },
  {
   "cell_type": "code",
   "execution_count": null,
   "metadata": {
    "collapsed": false
   },
   "outputs": [],
   "source": [
    "# p.141\n",
    "classA = [54, 55, 52, 48, 50, 38, 41, 40, 53, 52]\n",
    "classB = [67, 63, 50, 60, 61, 69, 43, 58, 36, 29]\n",
    "t, p = stats.ttest_ind(classB,classA)\n",
    "print(f't-value = {t :.4f}')\n",
    "print(f'p-value = {p :.4f}')"
   ]
  },
  {
   "cell_type": "markdown",
   "metadata": {
    "collapsed": false
   },
   "source": [
    "## Python による等分散性を仮定しない t 検定"
   ]
  },
  {
   "cell_type": "code",
   "execution_count": null,
   "metadata": {
    "collapsed": false
   },
   "outputs": [],
   "source": [
    "# p.143\n",
    "classA = [54, 55, 52, 48, 50, 38, 41, 40, 53, 52]\n",
    "classB = [67, 63, 50, 60, 61, 69, 43, 58, 36, 29]\n",
    "t, p = stats.ttest_ind(classB, classA, equal_var=False)\n",
    "print(f't-value = {t :.4f}')\n",
    "print(f'p-value = {p :.4f}')"
   ]
  },
  {
   "cell_type": "markdown",
   "metadata": {
    "collapsed": false
   },
   "source": [
    "## Python による乱数を利用した検定"
   ]
  },
  {
   "cell_type": "markdown",
   "metadata": {
    "collapsed": false
   },
   "source": [
    "# 4-1-5　ROC 解析と推論の評価\n",
    "##  Python による ROC 解析"
   ]
  },
  {
   "cell_type": "code",
   "execution_count": null,
   "metadata": {
    "collapsed": false
   },
   "outputs": [],
   "source": [
    "import numpy as np\n",
    "import random\n",
    "test = np.array([54, 55, 52, 48, 50, 38, 41, 40, 53, 52, 67, 63, 50, 60, 61, 69, 43, 58, 36, 29])\n",
    "cls = np.array([0, 0, 0, 0, 0, 0, 0, 0, 0, 0, 1, 1, 1, 1, 1, 1, 1, 1, 1, 1])\n",
    "test_diff = np.mean(test[np.where(cls==0)]) - np.mean(test[np.where(cls==1)])\n",
    "n = 10000\n",
    "examples = []\n",
    "for i in range(n):\n",
    "    grp = np.random.choice(cls, size=cls.size, replace=False)\n",
    "    grp_dif = np.mean(test[np.where(grp==0)]) - np.mean(test[np.where(grp==1)])\n",
    "    examples.append(grp_dif)\n",
    "\n",
    "y = np.sum(np.abs(examples) > np.abs(test_diff))/n\n",
    "print(y)"
   ]
  },
  {
   "cell_type": "code",
   "execution_count": null,
   "metadata": {
    "collapsed": false
   },
   "outputs": [],
   "source": [
    "from sklearn.metrics import roc_curve\n",
    "from sklearn.metrics import roc_auc_score\n",
    "import matplotlib.pyplot as plt\n",
    "points = [0, 10, 20, 30, 40, 50, 60, 70, 80, 90, 100]\n",
    "cls = [0, 0, 0, 1, 0, 1, 0, 1, 0, 1, 1]\n",
    "fpr, tpr, thresholds = roc_curve(cls, points)\n",
    "plt.plot(fpr, tpr, marker='o')\n",
    "plt.xlabel('FPR: False positive rate')\n",
    "plt.ylabel('TPR: True positive rate')\n",
    "plt.grid()\n",
    "print(roc_auc_score(cls, points))"
   ]
  },
  {
   "cell_type": "markdown",
   "metadata": {
    "collapsed": false
   },
   "source": [
    "# 4-2-3　単回帰分析\n",
    "\n",
    "## Python による相関係数の算出と単回帰分析"
   ]
  },
  {
   "cell_type": "code",
   "execution_count": 34,
   "metadata": {
    "collapsed": false
   },
   "outputs": [],
   "source": [
    "# ライブラリの読み込み\n",
    "import numpy as np\n",
    "import pandas as pd \n",
    "import matplotlib.pyplot as plt \n",
    "plt.style.use('ggplot')\n",
    "\n",
    "# csvファイルよりデータ読み込み\n",
    "df = pd.read_csv('../data/cars.csv') \n",
    "#'/users/username/documents' は自分のコンピュータ環境にあわせる\n"
   ]
  },
  {
   "cell_type": "code",
   "execution_count": 35,
   "metadata": {
    "collapsed": false
   },
   "outputs": [
    {
     "data": {
      "text/plain": [
       "<AxesSubplot:xlabel='speed', ylabel='dist'>"
      ]
     },
     "execution_count": 35,
     "metadata": {},
     "output_type": "execute_result"
    },
    {
     "data": {
      "image/png": "[encoded data removed]",
      "text/plain": [
       "<Figure size 432x288 with 1 Axes>"
      ]
     },
     "metadata": {},
     "output_type": "display_data"
    }
   ],
   "source": [
    "# pandasを使った散布図の作成\n",
    "df.plot.scatter('speed', 'dist')\n",
    "# plt.show()"
   ]
  },
  {
   "cell_type": "code",
   "execution_count": 36,
   "metadata": {
    "collapsed": false
   },
   "outputs": [
    {
     "data": {
      "text/html": [
       "<div>\n",
       "<style scoped>\n",
       "    .dataframe tbody tr th:only-of-type {\n",
       "        vertical-align: middle;\n",
       "    }\n",
       "\n",
       "    .dataframe tbody tr th {\n",
       "        vertical-align: top;\n",
       "    }\n",
       "\n",
       "    .dataframe thead th {\n",
       "        text-align: right;\n",
       "    }\n",
       "</style>\n",
       "<table border=\"1\" class=\"dataframe\">\n",
       "  <thead>\n",
       "    <tr style=\"text-align: right;\">\n",
       "      <th></th>\n",
       "      <th>speed</th>\n",
       "      <th>dist</th>\n",
       "    </tr>\n",
       "  </thead>\n",
       "  <tbody>\n",
       "    <tr>\n",
       "      <th>speed</th>\n",
       "      <td>1.000000</td>\n",
       "      <td>0.806895</td>\n",
       "    </tr>\n",
       "    <tr>\n",
       "      <th>dist</th>\n",
       "      <td>0.806895</td>\n",
       "      <td>1.000000</td>\n",
       "    </tr>\n",
       "  </tbody>\n",
       "</table>\n",
       "</div>"
      ],
      "text/plain": [
       "          speed      dist\n",
       "speed  1.000000  0.806895\n",
       "dist   0.806895  1.000000"
      ]
     },
     "execution_count": 36,
     "metadata": {},
     "output_type": "execute_result"
    }
   ],
   "source": [
    "df.corr()"
   ]
  },
  {
   "cell_type": "code",
   "execution_count": 38,
   "metadata": {
    "collapsed": false
   },
   "outputs": [
    {
     "name": "stdout",
     "output_type": "stream",
     "text": [
      "(50, 1)\n"
     ]
    }
   ],
   "source": [
    "# scikitlearnライブラリを利用\n",
    "from sklearn.linear_model import LinearRegression \n",
    "# 説明変数に値を代入\n",
    "x = df[['speed']]\n",
    "# 目的変数に値を代入\n",
    "y = df[['dist']] \n",
    "# 分析モデルとして回帰分析を指定\n",
    "model = LinearRegression() \n",
    "# x,yをもとに回帰分析実行\n",
    "lin_reg = model.fit(x, y) \n"
   ]
  },
  {
   "cell_type": "code",
   "execution_count": 18,
   "metadata": {
    "collapsed": false
   },
   "outputs": [
    {
     "data": {
      "text/plain": [
       "[<matplotlib.lines.Line2D at 0x7fe19afd5af0>]"
      ]
     },
     "execution_count": 18,
     "metadata": {},
     "output_type": "execute_result"
    },
    {
     "data": {
      "image/png": "[encoded data removed]",
      "text/plain": [
       "<Figure size 432x288 with 1 Axes>"
      ]
     },
     "metadata": {},
     "output_type": "display_data"
    }
   ],
   "source": [
    "df.plot.scatter('speed', 'dist')\n",
    "# 単回帰直線描画設定\n",
    "plt.plot(x, lin_reg.predict(x), linestyle=\"solid\", color=\"red\") "
   ]
  },
  {
   "cell_type": "code",
   "execution_count": 23,
   "metadata": {
    "collapsed": false
   },
   "outputs": [
    {
     "name": "stdout",
     "output_type": "stream",
     "text": [
      "単回帰方程式の単回帰変数 w1: 3.932\n",
      "単回帰方程式の切片 w2: -17.579\n",
      "y= 3.932x + -17.579\n",
      "決定係数 R^2：0.651\n"
     ]
    }
   ],
   "source": [
    "# 単回帰変数，切片，単回帰方程式，および，決定変数の表示\n",
    "from sklearn.metrics import r2_score\n",
    "print('単回帰方程式の単回帰変数 w1: %.3f' % model.coef_) \n",
    "print('単回帰方程式の切片 w2: %.3f' % model.intercept_) \n",
    "print('y= %.3fx + %.3f' % (model.coef_, model.intercept_)) \n",
    "# print('決定係数 R^2： ', model.score(x, y))\n",
    "y_pred = model.predict(x)\n",
    "r2 = r2_score(y, y_pred)\n",
    "print('決定係数 R^2：%.3f' % r2)\n"
   ]
  },
  {
   "cell_type": "code",
   "execution_count": 24,
   "metadata": {
    "collapsed": false
   },
   "outputs": [],
   "source": [
    "import matplotlib.pyplot as plt\n",
    "plt.style.use('ggplot')\n",
    "import pandas as pd\n",
    "import numpy as np\n",
    "\n",
    "# csvファイルからデータの読み込み\n",
    "df = pd.read_csv('../data/ruspini.csv')\n",
    "#'/users/username/documents/' は自分のコンピュータ環境にあわせて変更"
   ]
  },
  {
   "cell_type": "code",
   "execution_count": 25,
   "metadata": {
    "collapsed": false
   },
   "outputs": [
    {
     "data": {
      "text/plain": [
       "<AxesSubplot:xlabel='x', ylabel='y'>"
      ]
     },
     "execution_count": 25,
     "metadata": {},
     "output_type": "execute_result"
    },
    {
     "data": {
      "image/png": "[encoded data removed]",
      "text/plain": [
       "<Figure size 432x288 with 1 Axes>"
      ]
     },
     "metadata": {},
     "output_type": "display_data"
    }
   ],
   "source": [
    "# pandasを使った散布図の作成\n",
    "df.plot.scatter('x', 'y')\n",
    "# plt.show()"
   ]
  },
  {
   "cell_type": "code",
   "execution_count": 26,
   "metadata": {
    "collapsed": false
   },
   "outputs": [],
   "source": [
    "# ライブラリの読み込み\n",
    "from scipy.cluster.hierarchy import linkage, dendrogram, fcluster\n",
    "\n",
    "# 階層的クラスタリング実行\n",
    "linkage_result = linkage(df, method='single', metric='euclidean') "
   ]
  },
  {
   "cell_type": "code",
   "execution_count": 28,
   "metadata": {
    "collapsed": false
   },
   "outputs": [
    {
     "data": {
      "image/png": "[encoded data removed]",
      "text/plain": [
       "<Figure size 432x288 with 1 Axes>"
      ]
     },
     "metadata": {},
     "output_type": "display_data"
    }
   ],
   "source": [
    "# 縦軸でカットする値の設定\n",
    "threshold = 20 \n",
    "# 描画の設定\n",
    "# plt.figure(figsize=(16, 9))\n",
    "# 樹形図の設定\n",
    "_ = dendrogram(linkage_result, color_threshold=threshold)\n",
    "# plt.show()"
   ]
  },
  {
   "cell_type": "code",
   "execution_count": 29,
   "metadata": {
    "collapsed": false
   },
   "outputs": [
    {
     "name": "stdout",
     "output_type": "stream",
     "text": [
      "[4 4 4 4 4 4 4 4 4 4 4 4 4 4 4 4 4 4 4 4 1 1 1 1 1 1 1 1 1 1 1 1 1 1 1 1 1\n",
      " 1 1 1 1 1 1 2 2 2 2 2 2 2 2 2 2 2 2 2 2 2 2 2 3 3 3 3 3 3 3 3 3 3 3 3 3 3\n",
      " 3]\n"
     ]
    }
   ],
   "source": [
    "cluster = fcluster(linkage_result, threshold, criterion='distance')\n",
    "print(cluster)\n"
   ]
  },
  {
   "cell_type": "code",
   "execution_count": 30,
   "metadata": {
    "collapsed": false
   },
   "outputs": [
    {
     "data": {
      "text/html": [
       "<div>\n",
       "<style scoped>\n",
       "    .dataframe tbody tr th:only-of-type {\n",
       "        vertical-align: middle;\n",
       "    }\n",
       "\n",
       "    .dataframe tbody tr th {\n",
       "        vertical-align: top;\n",
       "    }\n",
       "\n",
       "    .dataframe thead th {\n",
       "        text-align: right;\n",
       "    }\n",
       "</style>\n",
       "<table border=\"1\" class=\"dataframe\">\n",
       "  <thead>\n",
       "    <tr style=\"text-align: right;\">\n",
       "      <th></th>\n",
       "      <th>x</th>\n",
       "      <th>y</th>\n",
       "    </tr>\n",
       "  </thead>\n",
       "  <tbody>\n",
       "    <tr>\n",
       "      <th>0</th>\n",
       "      <td>4</td>\n",
       "      <td>53</td>\n",
       "    </tr>\n",
       "    <tr>\n",
       "      <th>1</th>\n",
       "      <td>5</td>\n",
       "      <td>63</td>\n",
       "    </tr>\n",
       "    <tr>\n",
       "      <th>2</th>\n",
       "      <td>10</td>\n",
       "      <td>59</td>\n",
       "    </tr>\n",
       "    <tr>\n",
       "      <th>3</th>\n",
       "      <td>9</td>\n",
       "      <td>77</td>\n",
       "    </tr>\n",
       "    <tr>\n",
       "      <th>4</th>\n",
       "      <td>13</td>\n",
       "      <td>49</td>\n",
       "    </tr>\n",
       "    <tr>\n",
       "      <th>...</th>\n",
       "      <td>...</td>\n",
       "      <td>...</td>\n",
       "    </tr>\n",
       "    <tr>\n",
       "      <th>70</th>\n",
       "      <td>66</td>\n",
       "      <td>23</td>\n",
       "    </tr>\n",
       "    <tr>\n",
       "      <th>71</th>\n",
       "      <td>61</td>\n",
       "      <td>25</td>\n",
       "    </tr>\n",
       "    <tr>\n",
       "      <th>72</th>\n",
       "      <td>76</td>\n",
       "      <td>27</td>\n",
       "    </tr>\n",
       "    <tr>\n",
       "      <th>73</th>\n",
       "      <td>72</td>\n",
       "      <td>31</td>\n",
       "    </tr>\n",
       "    <tr>\n",
       "      <th>74</th>\n",
       "      <td>64</td>\n",
       "      <td>30</td>\n",
       "    </tr>\n",
       "  </tbody>\n",
       "</table>\n",
       "<p>75 rows × 2 columns</p>\n",
       "</div>"
      ],
      "text/plain": [
       "     x   y\n",
       "0    4  53\n",
       "1    5  63\n",
       "2   10  59\n",
       "3    9  77\n",
       "4   13  49\n",
       "..  ..  ..\n",
       "70  66  23\n",
       "71  61  25\n",
       "72  76  27\n",
       "73  72  31\n",
       "74  64  30\n",
       "\n",
       "[75 rows x 2 columns]"
      ]
     },
     "execution_count": 30,
     "metadata": {},
     "output_type": "execute_result"
    }
   ],
   "source": [
    "df"
   ]
  },
  {
   "cell_type": "code",
   "execution_count": 31,
   "metadata": {
    "collapsed": false
   },
   "outputs": [],
   "source": [
    "df['cluster'] = cluster\n",
    "col = df.cluster.map({1:'r', 2:'b', 3:'g', 4:'orange'})"
   ]
  },
  {
   "cell_type": "code",
   "execution_count": 32,
   "metadata": {
    "collapsed": false
   },
   "outputs": [
    {
     "data": {
      "text/plain": [
       "<AxesSubplot:xlabel='x', ylabel='y'>"
      ]
     },
     "execution_count": 32,
     "metadata": {},
     "output_type": "execute_result"
    },
    {
     "data": {
      "image/png": "[encoded data removed]",
      "text/plain": [
       "<Figure size 432x288 with 1 Axes>"
      ]
     },
     "metadata": {},
     "output_type": "display_data"
    }
   ],
   "source": [
    "df.plot.scatter('x', 'y', c=col)"
   ]
  },
  {
   "cell_type": "code",
   "execution_count": null,
   "metadata": {
    "collapsed": false
   },
   "outputs": [],
   "source": [
    "# ライブラリの読み込み\n",
    "import numpy as np\n",
    "import pandas as pd \n",
    "from sklearn.cluster import KMeans \n",
    "\n",
    "# csvファイルからデータ読み込み\n",
    "df = pd.read_csv('../data/ruspini.csv')"
   ]
  },
  {
   "cell_type": "code",
   "execution_count": 22,
   "metadata": {
    "collapsed": false
   },
   "outputs": [
    {
     "name": "stdout",
     "output_type": "stream",
     "text": [
      "[2 2 2 2 2 2 2 2 2 2 2 2 2 2 2 2 2 2 2 2 0 0 0 0 0 0 0 0 0 0 0 0 0 0 0 0 0\n",
      " 0 0 0 0 0 0 3 3 3 3 3 3 3 3 3 3 3 3 3 3 3 3 3 1 1 1 1 1 1 1 1 1 1 1 1 1 1\n",
      " 1]\n"
     ]
    }
   ],
   "source": [
    "# ライブラリの読み込み\n",
    "from sklearn.cluster import KMeans\n",
    "# デフォルトのアルゴリズムは k-means++\n",
    "kmeans_mod = KMeans(n_clusters=4) \n",
    "cluster = kmeans_mod.fit_predict(df) \n",
    "# クラスター番号の確認\n",
    "print( cluster ) "
   ]
  },
  {
   "cell_type": "code",
   "execution_count": 23,
   "metadata": {
    "collapsed": false
   },
   "outputs": [
    {
     "data": {
      "text/plain": [
       "<AxesSubplot:xlabel='x', ylabel='y'>"
      ]
     },
     "execution_count": 23,
     "metadata": {},
     "output_type": "execute_result"
    },
    {
     "data": {
      "image/png": "[encoded data removed]",
      "text/plain": [
       "<Figure size 432x288 with 1 Axes>"
      ]
     },
     "metadata": {},
     "output_type": "display_data"
    }
   ],
   "source": [
    "# クラスター番号をデータフレームに追加\n",
    "df['cluster'] = cluster\n",
    "# 色分けするのための情報を列として追加\n",
    "col = df.cluster.map({0:'r', 1:'b', 2:'g', 3:'orange'})\n",
    "# クラスターごとに色分けした散布図を作成\n",
    "df.plot.scatter('x', 'y', c=col)\n",
    "# plt.show()"
   ]
  }
 ],
 "metadata": {
  "kernelspec": {
   "argv": [
    "python",
    "-m",
    "ipykernel_launcher",
    "-f",
    "{connection_file}"
   ],
   "display_name": "Python 3",
   "env": null,
   "interrupt_mode": "signal",
   "language": "python",
   "metadata": null,
   "name": "python3"
  },
  "language_info": {
   "codemirror_mode": {
    "name": "ipython",
    "version": 3
   },
   "file_extension": ".py",
   "mimetype": "text/x-python",
   "name": "python",
   "nbconvert_exporter": "python",
   "pygments_lexer": "ipython3",
   "version": "3.8.5"
  },
  "name": "Chap4.ipynb"
 },
 "nbformat": 4,
 "nbformat_minor": 4
}
