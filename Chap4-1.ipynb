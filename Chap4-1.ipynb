{
 "cells": [
  {
   "cell_type": "markdown",
   "metadata": {
    "collapsed": false
   },
   "source": [
    "# 4-1-2　代表的な確率分布と性質\n"
   ]
  },
  {
   "cell_type": "code",
   "execution_count": null,
   "metadata": {
    "collapsed": false
   },
   "outputs": [
    {
     "data": {
      "text/plain": [
       "array([0.00097656, 0.00976563, 0.04394531, 0.1171875 , 0.20507813])"
      ]
     },
     "execution_count": 13,
     "metadata": {},
     "output_type": "execute_result"
    }
   ],
   "source": [
    "# p.93\n",
    "from scipy.stats import binom\n",
    "k = np.arange(0, 5) # array([0, 1, 2, 3, 4])\n",
    "# 10回コインを振って表が0回から5回までが出る確率\n",
    "binom.pmf (k, n=10, p=0.5)"
   ]
  },
  {
   "cell_type": "markdown",
   "metadata": {
    "collapsed": false
   },
   "source": [
    "## ■ Python を使った確率分布の描画と確率関数\n",
    "\n"
   ]
  },
  {
   "cell_type": "code",
   "execution_count": 1,
   "metadata": {
    "collapsed": false
   },
   "outputs": [
    {
     "data": {
      "text/plain": [
       "[<matplotlib.lines.Line2D at 0x7fd638ca7880>]"
      ]
     },
     "execution_count": 1,
     "metadata": {},
     "output_type": "execute_result"
    },
    {
     "data": {
      "image/png": "[encoded data removed]",
      "text/plain": [
       "<Figure size 432x288 with 1 Axes>"
      ]
     },
     "metadata": {},
     "output_type": "display_data"
    }
   ],
   "source": [
    "# p.119\n",
    "%matplotlib inline\n",
    "import matplotlib.pyplot as plt\n",
    "plt.style.use('ggplot')\n",
    "import numpy as np\n",
    "from scipy.stats import norm\n",
    "X = np.arange(20, 80, 0.1)\n",
    "Y = norm.pdf(X, 50, 10)\n",
    "fig = plt.figure()\n",
    "ax = fig.subplots()\n",
    "ax.plot(X, Y, color='r')\n",
    "#plt.show()"
   ]
  },
  {
   "cell_type": "code",
   "execution_count": 6,
   "metadata": {
    "collapsed": false
   },
   "outputs": [
    {
     "name": "stdout",
     "output_type": "stream",
     "text": [
      "0.058440944333451476\n",
      "0.024997895148220435\n",
      "-1.9599639845400545\n"
     ]
    }
   ],
   "source": [
    "# p.120\n",
    "from scipy.stats import norm\n",
    "# 確率密度を返す\n",
    "print(norm.pdf(-1.96, 0, 1))\n",
    "# 分位点を返す\n",
    "print(norm.ppf(0.025, 0, 1))\n",
    "# 累積確率を返す\n",
    "print(norm.cdf(-1.96, 0, 1)) \n"
   ]
  },
  {
   "cell_type": "markdown",
   "metadata": {
    "collapsed": false
   },
   "source": [
    "# 4-1-3　推測統計学の基礎\n",
    "## Python を使ったランダム・サンプリング"
   ]
  },
  {
   "cell_type": "code",
   "execution_count": null,
   "metadata": {
    "collapsed": false
   },
   "outputs": [],
   "source": [
    "# p.123\n",
    "from scipy.stats import norm\n",
    "import matplotlib.pyplot as plt\n",
    "plt.style.use('ggplot')\n",
    "SampMean = []\n",
    "for i in range(10000):\n",
    "    sample = norm.rvs(loc=6300, scale=1700, size=16)\n",
    "    SampMean.append(sample.mean())\n",
    "\n",
    "plt.hist(SampMean)\n",
    "# plt.show()"
   ]
  },
  {
   "cell_type": "markdown",
   "metadata": {
    "collapsed": false
   },
   "source": [
    "# 4-1-4　統計的検定の基礎\n",
    "\n",
    "## Python によるカイ自乗検定"
   ]
  },
  {
   "cell_type": "code",
   "execution_count": null,
   "metadata": {
    "collapsed": false
   },
   "outputs": [],
   "source": [
    "# p.132\n",
    "import pandas as pd\n",
    "from scipy import stats\n",
    "df = pd.DataFrame([[10, 26],\n",
    "                   [10, 14]],\n",
    "                  index =['P', 'N'], columns=['A', 'B'])\n",
    "x2, p, _, _ = stats.chi2_contingency(df, correction=False)\n",
    "print(f'p-value = {p :.3f}')\n",
    "print(f'chi^2   = {x2:.2f}')"
   ]
  },
  {
   "cell_type": "markdown",
   "metadata": {
    "collapsed": false
   },
   "source": [
    "## Python による「対応」のある t検定"
   ]
  },
  {
   "cell_type": "markdown",
   "metadata": {
    "collapsed": false
   },
   "source": [
    "# p.136\n",
    "from scipy import stats\n",
    "before = [0.1, 0.3, 0.3, 0.1, 0.2, 0.3, 0.6, 0.4, 0.2, 0.3]\n",
    "after = [1.1, 0.7, 0.6, 0.8, 1.3, 0.5, 0.8, 0.7, 0.9, 0.5]\n",
    "t, p = stats.ttest_rel(before, after)\n",
    "print(f't-value = {t :.4f}')\n",
    "print(f'p-value = {p :.6f}')"
   ]
  },
  {
   "cell_type": "markdown",
   "metadata": {
    "collapsed": false
   },
   "source": [
    "## Python による等分散性の検定"
   ]
  },
  {
   "cell_type": "markdown",
   "metadata": {
    "collapsed": false
   },
   "source": [
    "# p.140\n",
    "import numpy as np\n",
    "import numpy as np\n",
    "from scipy import stats\n",
    "classA = np.array([54, 55, 52, 48, 50, 38, 41, 40, 53, 52])\n",
    "classB = np.array([67, 63, 50, 60, 61, 69, 43, 58, 36, 29])\n",
    "# 分散の比を求める\n",
    "f = np.var(classB, ddof=1)/np.var(classA, ddof=1) \n",
    "# 分母分子の自由度\n",
    "dfn = classA.size - 1\n",
    "dfd = classB.size - 1\n",
    "# F分布の累積分布\n",
    "p = 1 - stats.f.cdf(f, dfn, dfd) \n",
    "print(f'f-value = {f :.4f}')\n",
    "print(f'p-value = {p :.4f}')"
   ]
  },
  {
   "cell_type": "markdown",
   "metadata": {
    "collapsed": false
   },
   "source": [
    "## Python による「対応」のない t 検定"
   ]
  },
  {
   "cell_type": "code",
   "execution_count": null,
   "metadata": {
    "collapsed": false
   },
   "outputs": [],
   "source": [
    "# p.141\n",
    "classA = [54, 55, 52, 48, 50, 38, 41, 40, 53, 52]\n",
    "classB = [67, 63, 50, 60, 61, 69, 43, 58, 36, 29]\n",
    "t, p = stats.ttest_ind(classB,classA)\n",
    "print(f't-value = {t :.4f}')\n",
    "print(f'p-value = {p :.4f}')"
   ]
  },
  {
   "cell_type": "markdown",
   "metadata": {
    "collapsed": false
   },
   "source": [
    "## Python による等分散性を仮定しない t 検定"
   ]
  },
  {
   "cell_type": "code",
   "execution_count": null,
   "metadata": {
    "collapsed": false
   },
   "outputs": [],
   "source": [
    "# p.143\n",
    "classA = [54, 55, 52, 48, 50, 38, 41, 40, 53, 52]\n",
    "classB = [67, 63, 50, 60, 61, 69, 43, 58, 36, 29]\n",
    "t, p = stats.ttest_ind(classB, classA, equal_var=False)\n",
    "print(f't-value = {t :.4f}')\n",
    "print(f'p-value = {p :.4f}')"
   ]
  },
  {
   "cell_type": "markdown",
   "metadata": {
    "collapsed": false
   },
   "source": [
    "## Python による乱数を利用した検定"
   ]
  },
  {
   "cell_type": "markdown",
   "metadata": {
    "collapsed": false
   },
   "source": [
    "# 4-1-5　ROC 解析と推論の評価\n",
    "##  Python による ROC 解析"
   ]
  },
  {
   "cell_type": "code",
   "execution_count": null,
   "metadata": {
    "collapsed": false
   },
   "outputs": [],
   "source": [
    "import numpy as np\n",
    "import random\n",
    "test = np.array([54, 55, 52, 48, 50, 38, 41, 40, 53, 52, 67, 63, 50, 60, 61, 69, 43, 58, 36, 29])\n",
    "cls = np.array([0, 0, 0, 0, 0, 0, 0, 0, 0, 0, 1, 1, 1, 1, 1, 1, 1, 1, 1, 1])\n",
    "test_diff = np.mean(test[np.where(cls==0)]) - np.mean(test[np.where(cls==1)])\n",
    "n = 10000\n",
    "examples = []\n",
    "for i in range(n):\n",
    "    grp = np.random.choice(cls, size=cls.size, replace=False)\n",
    "    grp_dif = np.mean(test[np.where(grp==0)]) - np.mean(test[np.where(grp==1)])\n",
    "    examples.append(grp_dif)\n",
    "\n",
    "y = np.sum(np.abs(examples) > np.abs(test_diff))/n\n",
    "print(y)"
   ]
  },
  {
   "cell_type": "code",
   "execution_count": null,
   "metadata": {
    "collapsed": false
   },
   "outputs": [],
   "source": [
    "from sklearn.metrics import roc_curve\n",
    "from sklearn.metrics import roc_auc_score\n",
    "import matplotlib.pyplot as plt\n",
    "points = [0, 10, 20, 30, 40, 50, 60, 70, 80, 90, 100]\n",
    "cls = [0, 0, 0, 1, 0, 1, 0, 1, 0, 1, 1]\n",
    "fpr, tpr, thresholds = roc_curve(cls, points)\n",
    "plt.plot(fpr, tpr, marker='o')\n",
    "plt.xlabel('FPR: False positive rate')\n",
    "plt.ylabel('TPR: True positive rate')\n",
    "plt.grid()\n",
    "print(roc_auc_score(cls, points))"
   ]
  }
 ],
 "metadata": {
  "kernelspec": {
   "argv": [
    "python",
    "-m",
    "ipykernel_launcher",
    "-f",
    "{connection_file}"
   ],
   "display_name": "Python 3",
   "env": null,
   "interrupt_mode": "signal",
   "language": "python",
   "metadata": null,
   "name": "python3"
  },
  "name": "Chap4-1.ipynb"
 },
 "nbformat": 4,
 "nbformat_minor": 4
}
